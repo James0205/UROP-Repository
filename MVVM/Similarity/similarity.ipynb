{
 "cells": [
  {
   "cell_type": "code",
   "execution_count": 1,
   "id": "80841fb4-d422-47ef-ac5d-0740b1af807f",
   "metadata": {},
   "outputs": [],
   "source": [
    "import datasort_lab\n",
    "import numpy as np\n",
    "from CKA import linear_CKA\n",
    "from analytics import compiled_list, subject_average"
   ]
  },
  {
   "cell_type": "code",
   "execution_count": null,
   "id": "917c7349-626c-4b0d-ab7d-23c44ac19f20",
   "metadata": {},
   "outputs": [],
   "source": [
    "# run cell to compute variance of all data set CKA\n",
    "\n",
    "file_name = \"transitions.csv\"\n",
    "subject_list = datasort_lab.subject_list(file_name)\n",
    "var_list = []\n",
    "\n",
    "for subject in subject_list:\n",
    "    data_set = datasort_lab.data_sorter(file_name,subject)\n",
    "\n",
    "    # data_sets\n",
    "    compiled_byMonths = compiled_list(data_set) # list of monthly compiled matrices\n",
    "    average_matrix = subject_average(compiled_byMonths) # average of all months\n",
    "    shape = compiled_byMonths[0][1].shape\n",
    "    compiled_byMonths = [x for x in compiled_byMonths if np.any(x[1] != np.zeros(shape))]\n",
    "\n",
    "    CKA_list = []\n",
    "    for date, matrix in compiled_byMonths:\n",
    "        CKA_list.append(linear_CKA(average_matrix, matrix))\n",
    "    var_list.append(np.var(CKA_list))\n",
    "\n",
    "# returns a list of variance for all the data set\n",
    "# index of element is equivalent to index of data set\n",
    "# print(var_list)\n",
    "\n",
    "# To sort variance and identify its data set source\n",
    "# sorted_varlist = sorted(var_list)\n",
    "\n",
    "# change number in [] to find index of intended variance\n",
    "# var_list.index(sorted_varlist[-1])"
   ]
  },
  {
   "cell_type": "code",
   "execution_count": 16,
   "id": "4cae879c-ba84-4da9-ac75-2694e38383e7",
   "metadata": {},
   "outputs": [
    {
     "data": {
      "image/png": "[encoded data removed]",
      "text/plain": [
       "<Figure size 432x288 with 1 Axes>"
      ]
     },
     "metadata": {
      "needs_background": "light"
     },
     "output_type": "display_data"
    }
   ],
   "source": [
    "import matplotlib.pyplot as plt\n",
    "import matplotlib.ticker as plticker\n",
    "\n",
    "file_name = \"transitions.csv\"\n",
    "subject_list = datasort_lab.subject_list(file_name)\n",
    "\n",
    "# change number in [] to inspect intended data set\n",
    "subject = subject_list[7]\n",
    "\n",
    "data_set = datasort_lab.data_sorter(file_name,subject)\n",
    "compiled_byMonths = compiled_list(data_set) # list of monthly compiled matrices\n",
    "average_matrix = subject_average(compiled_byMonths)\n",
    "\n",
    "# remove zero matrices\n",
    "shape = compiled_byMonths[0][1].shape\n",
    "compiled_byMonths = [x for x in compiled_byMonths if np.any(x[1] != np.zeros(shape))]\n",
    "\n",
    "CKA_list = []\n",
    "date_list = []\n",
    "for i in range(len(compiled_byMonths)):\n",
    "    date_list.append(compiled_byMonths[i][0])\n",
    "    CKA_list.append(linear_CKA(average_matrix, compiled_byMonths[i][1]))\n",
    "\n",
    "fig, ax = plt.subplots()\n",
    "ax.plot(date_list,CKA_list)\n",
    "loc = plticker.MultipleLocator(base=5.0) # this locator puts ticks at regular intervals\n",
    "ax.xaxis.set_major_locator(loc)\n",
    "ax.grid(True)\n",
    "plt.show()"
   ]
  },
  {
   "cell_type": "code",
   "execution_count": null,
   "id": "bf3d4c01-7cbd-408d-a719-4aa3fe0e257e",
   "metadata": {},
   "outputs": [],
   "source": []
  }
 ],
 "metadata": {
  "kernelspec": {
   "display_name": "Python 3 (ipykernel)",
   "language": "python",
   "name": "python3"
  },
  "language_info": {
   "codemirror_mode": {
    "name": "ipython",
    "version": 3
   },
   "file_extension": ".py",
   "mimetype": "text/x-python",
   "name": "python",
   "nbconvert_exporter": "python",
   "pygments_lexer": "ipython3",
   "version": "3.8.2"
  }
 },
 "nbformat": 4,
 "nbformat_minor": 5
}
